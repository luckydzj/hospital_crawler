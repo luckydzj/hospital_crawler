{
 "cells": [
  {
   "cell_type": "code",
   "execution_count": 1,
   "metadata": {},
   "outputs": [
    {
     "name": "stdout",
     "output_type": "stream",
     "text": [
      "{'莲湖区': 'https://yyk.familydoctor.com.cn/addarea_2637_0_0_0_1.html', '新城区': 'https://yyk.familydoctor.com.cn/addarea_2652_0_0_0_1.html', '碑林区': 'https://yyk.familydoctor.com.cn/addarea_2660_0_0_0_1.html', '灞桥区': 'https://yyk.familydoctor.com.cn/addarea_2673_0_0_0_1.html', '未央区': 'https://yyk.familydoctor.com.cn/addarea_2681_0_0_0_1.html', '雁塔区': 'https://yyk.familydoctor.com.cn/addarea_2697_0_0_0_1.html', '阎良区': 'https://yyk.familydoctor.com.cn/addarea_2720_0_0_0_1.html', '临潼区': 'https://yyk.familydoctor.com.cn/addarea_2732_0_0_0_1.html', '长安区': 'https://yyk.familydoctor.com.cn/addarea_2742_0_0_0_1.html', '蓝田县': 'https://yyk.familydoctor.com.cn/addarea_2749_0_0_0_1.html', '周至县': 'https://yyk.familydoctor.com.cn/addarea_2754_0_0_0_1.html', '户县': 'https://yyk.familydoctor.com.cn/addarea_2758_0_0_0_1.html', '高陵县': 'https://yyk.familydoctor.com.cn/addarea_2761_0_0_0_1.html'}\n",
      "莲湖区 医院信息已获取完毕...\n",
      "新城区 医院信息已获取完毕...\n",
      "碑林区 医院信息已获取完毕...\n",
      "灞桥区 医院信息已获取完毕...\n",
      "未央区 医院信息已获取完毕...\n",
      "雁塔区 医院信息已获取完毕...\n",
      "阎良区 医院信息已获取完毕...\n",
      "临潼区 医院信息已获取完毕...\n",
      "长安区 医院信息已获取完毕...\n",
      "蓝田县 医院信息已获取完毕...\n",
      "周至县 医院信息已获取完毕...\n",
      "户县 医院信息已获取完毕...\n",
      "高陵县 医院信息已获取完毕...\n",
      "{'西安市红会医院': 'https://yyk.familydoctor.com.cn/17097/', '陕西省中医医院': 'https://yyk.familydoctor.com.cn/16920/', '西安市第五医院': 'https://yyk.familydoctor.com.cn/16808/', '西安莲湖华中医院': 'https://yyk.familydoctor.com.cn/17002/', '陕西西京中医医院': 'https://yyk.familydoctor.com.cn/16999/', '西安莲湖中童儿童康复医院': 'https://yyk.familydoctor.com.cn/16929/', '陕西省皮肤性病防治所': 'https://yyk.familydoctor.com.cn/16909/', '西安北方中医皮肤病医院': 'https://yyk.familydoctor.com.cn/20508/', '西安莲湖长城医院': 'https://yyk.familydoctor.com.cn/21384/', '西安中际中西医结合脑病医院': 'https://yyk.familydoctor.com.cn/20871/', '西安莲湖大唐医院(男科)': 'https://yyk.familydoctor.com.cn/20909/', '西安莲湖国豪医院': 'https://yyk.familydoctor.com.cn/20534/', '西安莲湖生殖医院': 'https://yyk.familydoctor.com.cn/20994/', '西安市莲湖区红十字会医院': 'https://yyk.familydoctor.com.cn/16933/', '西安市莲湖区妇幼保健站': 'https://yyk.familydoctor.com.cn/16959/', '西安市莲湖区中医院': 'https://yyk.familydoctor.com.cn/16968/', '西安市立山医院': 'https://yyk.familydoctor.com.cn/16973/', '西安市莲湖区庙后街医院': 'https://yyk.familydoctor.com.cn/16993/', '西安市莲湖区青年路医院': 'https://yyk.familydoctor.com.cn/16995/', '西安莲湖华西医院': 'https://yyk.familydoctor.com.cn/20531/', '西安莲湖京科医院': 'https://yyk.familydoctor.com.cn/21062/', '西安市莲湖区西关医院': 'https://yyk.familydoctor.com.cn/16990/', '陕西地质矿产局职工医院': 'https://yyk.familydoctor.com.cn/16946/', '西安莲湖北大医院': 'https://yyk.familydoctor.com.cn/21291/', '西安市莲湖区红庙坡医院': 'https://yyk.familydoctor.com.cn/16936/', '西安远东医院': 'https://yyk.familydoctor.com.cn/16970/', '西安炎黄中医专科医院': 'https://yyk.familydoctor.com.cn/16997/', '西安冶金机械厂职工医院': 'https://yyk.familydoctor.com.cn/16976/', '陕西省第一建筑工程公司职工医院': 'https://yyk.familydoctor.com.cn/16982/', '西安市莲湖区北关医院': 'https://yyk.familydoctor.com.cn/16985/', '西安市莲湖区桃园路医院': 'https://yyk.familydoctor.com.cn/16988/', '陕西省邮电医院': 'https://yyk.familydoctor.com.cn/16949/', '西安市第二医院': 'https://yyk.familydoctor.com.cn/16955/', '西安新城仁爱皮肤病医院': 'https://yyk.familydoctor.com.cn/20710/', '陕西省地方病防治研究所': 'https://yyk.familydoctor.com.cn/16915/', '庆安宇航设备厂职工医院': 'https://yyk.familydoctor.com.cn/16942/', '西安都市医院': 'https://yyk.familydoctor.com.cn/20853/', '西安市中医医院': 'https://yyk.familydoctor.com.cn/17013/', '西安市第四医院': 'https://yyk.familydoctor.com.cn/17011/', '西安市中心医院': 'https://yyk.familydoctor.com.cn/16918/', '陕西省妇幼保健院': 'https://yyk.familydoctor.com.cn/16791/', '西安交通大学口腔医院': 'https://yyk.familydoctor.com.cn/17016/', '陕西省第二人民医院': 'https://yyk.familydoctor.com.cn/17008/', '中国人民解放军三二三医院': 'https://yyk.familydoctor.com.cn/17102/', '西电集团医院': 'https://yyk.familydoctor.com.cn/17018/', '西安圣和医院': 'https://yyk.familydoctor.com.cn/17088/', '西安新城中大耳鼻喉医院': 'https://yyk.familydoctor.com.cn/17618/', '西安古城医院肿瘤防治分院': 'https://yyk.familydoctor.com.cn/17024/', '西安市新城区中医院': 'https://yyk.familydoctor.com.cn/17029/', '西安市新城区胡家庙医院': 'https://yyk.familydoctor.com.cn/17072/', '陕西省西铁肿瘤医院': 'https://yyk.familydoctor.com.cn/17076/', '西安市按摩医院': 'https://yyk.familydoctor.com.cn/17080/', '西安市东方医院': 'https://yyk.familydoctor.com.cn/17052/', '西安武仁医院': 'https://yyk.familydoctor.com.cn/17039/', '西安市北方医院': 'https://yyk.familydoctor.com.cn/17045/', '西安市东郊第一职工医院': 'https://yyk.familydoctor.com.cn/17048/', '西安市东郊第二职工医院': 'https://yyk.familydoctor.com.cn/17065/', '西安新城白癫风专科医院': 'https://yyk.familydoctor.com.cn/17083/', '西安市昆仑医院': 'https://yyk.familydoctor.com.cn/17059/', '西安市第六医院': 'https://yyk.familydoctor.com.cn/17027/', '西安市新城区兴庆医院': 'https://yyk.familydoctor.com.cn/17034/', '西安市华山中心医院': 'https://yyk.familydoctor.com.cn/17036/', '西安市东郊第三职工医院': 'https://yyk.familydoctor.com.cn/17067/', '西安市东郊第四职工医院': 'https://yyk.familydoctor.com.cn/17071/', '西安仁爱白癜风医院': 'https://yyk.familydoctor.com.cn/20938/', '西安黄河医院': 'https://yyk.familydoctor.com.cn/17042/', '陕西省建材医院': 'https://yyk.familydoctor.com.cn/17051/', '西安市新城区第二医院': 'https://yyk.familydoctor.com.cn/17056/', '西安市新城区妇幼保健院': 'https://yyk.familydoctor.com.cn/17021/', '西安太华医院': 'https://yyk.familydoctor.com.cn/17062/', '西京医院': 'https://yyk.familydoctor.com.cn/21413/', '西安远大中医皮肤病医院': 'https://yyk.familydoctor.com.cn/20901/', '西安交通大学医学院第二附属医院': 'https://yyk.familydoctor.com.cn/17584/', '陕西省人民医院': 'https://yyk.familydoctor.com.cn/17095/', '西安市第一医院': 'https://yyk.familydoctor.com.cn/17113/', '西安市第九医院': 'https://yyk.familydoctor.com.cn/17352/', '中国人民解放军四五一医院': 'https://yyk.familydoctor.com.cn/17111/', '西安胃泰消化病医院': 'https://yyk.familydoctor.com.cn/21442/', '陕西远大男病专科医院': 'https://yyk.familydoctor.com.cn/21436/', '西安学典医院': 'https://yyk.familydoctor.com.cn/17092/', '西安慈爱妇产医院': 'https://yyk.familydoctor.com.cn/21033/', '西安生殖保健院': 'https://yyk.familydoctor.com.cn/17572/', '陕西省老医协生殖医学医院妇科': 'https://yyk.familydoctor.com.cn/20747/', '西安协同医院': 'https://yyk.familydoctor.com.cn/17198/', '陕西省老医协生殖医学医院': 'https://yyk.familydoctor.com.cn/17118/', '西安华仁医院': 'https://yyk.familydoctor.com.cn/21249/', '西安市碑林区东大街医院': 'https://yyk.familydoctor.com.cn/17127/', '西安市碑林区中医院': 'https://yyk.familydoctor.com.cn/17179/', '西安市碑林区红十字会医院': 'https://yyk.familydoctor.com.cn/17137/', '陕西省交通医院': 'https://yyk.familydoctor.com.cn/17139/', '西安宇恒医院': 'https://yyk.familydoctor.com.cn/17151/', '西安华夏医院': 'https://yyk.familydoctor.com.cn/17162/', '西安市碑林区口腔医院': 'https://yyk.familydoctor.com.cn/17175/', '西安市碑林区南大街医院': 'https://yyk.familydoctor.com.cn/17180/', '西安市碑林区东关医院': 'https://yyk.familydoctor.com.cn/17187/', '西安肝硬化医院': 'https://yyk.familydoctor.com.cn/17122/', '西安市眼科医院': 'https://yyk.familydoctor.com.cn/17123/', '西安市红十字会医院骨伤分院': 'https://yyk.familydoctor.com.cn/17116/', '陕西省公路局职工医院': 'https://yyk.familydoctor.com.cn/17143/', '西安市皇城医院': 'https://yyk.familydoctor.com.cn/17147/', '西安南关医院': 'https://yyk.familydoctor.com.cn/17149/', '西安华佗医院': 'https://yyk.familydoctor.com.cn/17159/', '西安民建中医院': 'https://yyk.familydoctor.com.cn/17168/', '西安市红缨路医院': 'https://yyk.familydoctor.com.cn/17146/', '西安工程科技大学医院': 'https://yyk.familydoctor.com.cn/17154/', '西安华医医院': 'https://yyk.familydoctor.com.cn/17169/', '西安精英医院': 'https://yyk.familydoctor.com.cn/17131/', '陕西省康复中心': 'https://yyk.familydoctor.com.cn/17194/', '西安市碑林区妇幼保健站': 'https://yyk.familydoctor.com.cn/17186/', '西安大同医院': 'https://yyk.familydoctor.com.cn/17156/', '西安友谊中医院': 'https://yyk.familydoctor.com.cn/17133/', '西安市南天医院': 'https://yyk.familydoctor.com.cn/17135/', '西安唐都医院': 'https://yyk.familydoctor.com.cn/17204/', '西安市灞桥区人民医院': 'https://yyk.familydoctor.com.cn/17210/', '陕西省纺织医院': 'https://yyk.familydoctor.com.cn/17203/', '西安市灞桥区红十字会医院': 'https://yyk.familydoctor.com.cn/17230/', '西安市灞桥区中医院': 'https://yyk.familydoctor.com.cn/17226/', '西安市灞桥区精神病院': 'https://yyk.familydoctor.com.cn/17219/', '西安市灞桥区妇幼保健站': 'https://yyk.familydoctor.com.cn/17221/', '西安市亚西光电仪器厂职工医院': 'https://yyk.familydoctor.com.cn/17233/', '西安长安医院': 'https://yyk.familydoctor.com.cn/17241/', '西安古城眼科医院': 'https://yyk.familydoctor.com.cn/17325/', '西安市康复医院': 'https://yyk.familydoctor.com.cn/17331/', '西安市未央区第一人民医院': 'https://yyk.familydoctor.com.cn/17244/', '西安惠仁医院': 'https://yyk.familydoctor.com.cn/17287/', '西安市未央区二府庄医院': 'https://yyk.familydoctor.com.cn/17315/', '西安市未央区草滩医院': 'https://yyk.familydoctor.com.cn/17317/', '西安郭家村工商公司医院': 'https://yyk.familydoctor.com.cn/17324/', '西安市未央区大明宫骨科医院': 'https://yyk.familydoctor.com.cn/17259/', '西安协和医院': 'https://yyk.familydoctor.com.cn/17277/', '西安太和医院': 'https://yyk.familydoctor.com.cn/17286/', '西安阳光医院': 'https://yyk.familydoctor.com.cn/17293/', '西安交通大学第二附属医院皮肤病院': 'https://yyk.familydoctor.com.cn/16859/', '西安华山中医皮肤病医院': 'https://yyk.familydoctor.com.cn/21131/', '西安市未央区第二人民医院': 'https://yyk.familydoctor.com.cn/17248/', '西安航空发动机公司职工医院': 'https://yyk.familydoctor.com.cn/17269/', '西安张家堡肛肠医院': 'https://yyk.familydoctor.com.cn/17304/', '陕西第十棉织厂医院': 'https://yyk.familydoctor.com.cn/17312/', '西安市唐城医院': 'https://yyk.familydoctor.com.cn/17267/', '西安市未央区未央宫医院': 'https://yyk.familydoctor.com.cn/17281/', '西安未央康乐医院': 'https://yyk.familydoctor.com.cn/17292/', '西安市未央区谭家医院': 'https://yyk.familydoctor.com.cn/17321/', '西安西郊纺织医院': 'https://yyk.familydoctor.com.cn/17274/', '第四军医大学西京医院': 'https://yyk.familydoctor.com.cn/17356/', '西安交通大学第一医院': 'https://yyk.familydoctor.com.cn/17347/', '陕西省肿瘤医院': 'https://yyk.familydoctor.com.cn/17342/', '西安市精神卫生中心': 'https://yyk.familydoctor.com.cn/17366/', '西安高新医院': 'https://yyk.familydoctor.com.cn/17473/', '西安市第八医院': 'https://yyk.familydoctor.com.cn/17494/', '西安天佑医院': 'https://yyk.familydoctor.com.cn/17483/', '西安藻露堂中医医院': 'https://yyk.familydoctor.com.cn/17478/', '西安雁塔友好医院': 'https://yyk.familydoctor.com.cn/21514/', '西安神龙中医院': 'https://yyk.familydoctor.com.cn/17467/', '西安市雁塔截瘫康复医疗中心': 'https://yyk.familydoctor.com.cn/17397/', '西安同仁医院': 'https://yyk.familydoctor.com.cn/17399/', '陕西省新安中心医院': 'https://yyk.familydoctor.com.cn/17401/', '西安雁塔曙光医院': 'https://yyk.familydoctor.com.cn/20620/', '西安市雁塔区等驾坡医院': 'https://yyk.familydoctor.com.cn/17451/', '西安市安康医院': 'https://yyk.familydoctor.com.cn/17413/', '西安公路交通大学医院': 'https://yyk.familydoctor.com.cn/17415/', '西安交通大学医院': 'https://yyk.familydoctor.com.cn/17423/', '西安建筑科技大学医院': 'https://yyk.familydoctor.com.cn/17375/', '陕西省钢厂职工医院': 'https://yyk.familydoctor.com.cn/17445/', '西安市雁塔区中医肿瘤医院': 'https://yyk.familydoctor.com.cn/17430/', '西安二六二医院': 'https://yyk.familydoctor.com.cn/17459/', '西安电力中心医院': 'https://yyk.familydoctor.com.cn/17378/', '西安康太医院': 'https://yyk.familydoctor.com.cn/17411/', '西安电子科技大学医院': 'https://yyk.familydoctor.com.cn/17417/', '西安市雁塔区肿瘤医院': 'https://yyk.familydoctor.com.cn/17427/', '西安中华医院': 'https://yyk.familydoctor.com.cn/17392/', '西安市朱雀医院': 'https://yyk.familydoctor.com.cn/17393/', '陕西博爱医院': 'https://yyk.familydoctor.com.cn/17370/', '西安雁塔区精神病院': 'https://yyk.familydoctor.com.cn/17438/', '西安市雁塔区疑难病医院': 'https://yyk.familydoctor.com.cn/17449/', '陕西正和医院': 'https://yyk.familydoctor.com.cn/17381/', '西安仁芳医院': 'https://yyk.familydoctor.com.cn/17463/', '西安市阎良区铁路医院精神病分院': 'https://yyk.familydoctor.com.cn/17517/', '西安市阎良区中医院': 'https://yyk.familydoctor.com.cn/17503/', '西安阎良精神病医院': 'https://yyk.familydoctor.com.cn/17532/', '西安一四一医院': 'https://yyk.familydoctor.com.cn/17509/', '西安市阎良铁路医院': 'https://yyk.familydoctor.com.cn/17511/', '西安一四一医院分院': 'https://yyk.familydoctor.com.cn/17526/', '西安市阎良区人民医院': 'https://yyk.familydoctor.com.cn/17535/', '西安市阎良区妇幼保健站': 'https://yyk.familydoctor.com.cn/17540/', '第四军医大学口腔医院': 'https://yyk.familydoctor.com.cn/17548/', '临潼县人民医院': 'https://yyk.familydoctor.com.cn/17566/', '临潼县中医院': 'https://yyk.familydoctor.com.cn/17556/', '临潼职业病医院': 'https://yyk.familydoctor.com.cn/17562/', '临潼妇幼保健院': 'https://yyk.familydoctor.com.cn/17557/', '陕西省结核病防治院': 'https://yyk.familydoctor.com.cn/17578/', '西安市结核病胸部肿瘤医院': 'https://yyk.familydoctor.com.cn/17616/', '长安县医院': 'https://yyk.familydoctor.com.cn/17606/', '西安长安龙泉医院': 'https://yyk.familydoctor.com.cn/17600/', '西安市长安区精神病院': 'https://yyk.familydoctor.com.cn/17602/', '西安市长安区妇幼保健院': 'https://yyk.familydoctor.com.cn/17614/', '西安市长安区中医院': 'https://yyk.familydoctor.com.cn/17611/', '西安尚德医院': 'https://yyk.familydoctor.com.cn/17595/', '西安类风湿康复中心': 'https://yyk.familydoctor.com.cn/17598/', '西安长安秦通医院': 'https://yyk.familydoctor.com.cn/17589/', '蓝田县康复医院': 'https://yyk.familydoctor.com.cn/17633/', '蓝田县中医院': 'https://yyk.familydoctor.com.cn/17630/', '蓝田县医院': 'https://yyk.familydoctor.com.cn/17628/', '向阳公司职工医院': 'https://yyk.familydoctor.com.cn/17642/', '周至县妇幼保健院': 'https://yyk.familydoctor.com.cn/17647/', '周至县人民医院': 'https://yyk.familydoctor.com.cn/17652/', '周至县会仁医院': 'https://yyk.familydoctor.com.cn/17662/', '周至县镇东联合医院': 'https://yyk.familydoctor.com.cn/17663/', '周至县中医院': 'https://yyk.familydoctor.com.cn/17658/', '西安中医肾病医院': 'https://yyk.familydoctor.com.cn/17692/', '户县妇幼保健院': 'https://yyk.familydoctor.com.cn/17681/', '陕西省森工医院': 'https://yyk.familydoctor.com.cn/17688/', '西安惠安医院': 'https://yyk.familydoctor.com.cn/17684/', '西安济仁医院': 'https://yyk.familydoctor.com.cn/17668/', '户县人民医院': 'https://yyk.familydoctor.com.cn/17673/', '户县中医院': 'https://yyk.familydoctor.com.cn/17676/', '高陵县中医院': 'https://yyk.familydoctor.com.cn/17706/', '高陵县妇幼保健院': 'https://yyk.familydoctor.com.cn/17712/', '高陵县医院': 'https://yyk.familydoctor.com.cn/17702/', '高陵县光达眼病医院': 'https://yyk.familydoctor.com.cn/17709/'}\n"
     ]
    }
   ],
   "source": [
    "import requests\n",
    "from bs4 import BeautifulSoup\n",
    "from pandas import DataFrame\n",
    "\n",
    "\n",
    "def get_hospital(zone_url, hospital_dict):\n",
    "    headers2 = {\"User-Agent\": \"\", \"Cookie\": \"\"}\n",
    "    zone_content = requests.get(zone_url, headers=headers2)\n",
    "\n",
    "    # rint(zone_content.text)\n",
    "    zone_soup = BeautifulSoup(zone_content.text, \"html.parser\")\n",
    "    zone_target = zone_soup.find_all(\"div\", class_=\"listItem\")\n",
    "    # print(zone_target)\n",
    "\n",
    "    for item in zone_target:\n",
    "        name = item.a.get_text(strip=True)\n",
    "        # print(name)\n",
    "        a_label = item.find_all(\"a\")[0]\n",
    "        # print(a_label['href'])\n",
    "        hospital_dict[name] = a_label['href']\n",
    "        # print()\n",
    "    next_url = None\n",
    "    next_page = zone_soup.find(\"div\", class_=\"endPage\")\n",
    "    if next_page:\n",
    "        next_link = next_page.find(\"a\", class_=\"next\")\n",
    "        if next_link:\n",
    "            next_url = next_link[\"href\"]\n",
    "\n",
    "    return hospital_dict, next_url\n",
    "\n",
    "\n",
    "headers = {\"User-Agent\":\"\",\"Cookie\":\"\"}\n",
    "xian_url=\"https://yyk.familydoctor.com.cn/area_305_0_0_0_1.html\"\n",
    "content = requests.get(xian_url,headers=headers)\n",
    "#print(content.text)\n",
    "\n",
    "xian_soup = BeautifulSoup(content.text,\"html.parser\")\n",
    "target = xian_soup.find(\"div\",class_=\"selection\")\n",
    "area_list = target.find_all(\"li\")[1:]\n",
    "area_dict={}\n",
    "for area in area_list:\n",
    "    area_name = area.get_text(strip=True)\n",
    "    area_dict[area_name]=area.a[\"href\"]\n",
    "print(area_dict)\n",
    "\n",
    "hospitals = {}\n",
    "for zone in area_dict:\n",
    "    hospitals,next_page = get_hospital(area_dict[zone],hospitals)\n",
    "    while next_page:\n",
    "        hospitals,next_page = get_hospital(next_page,hospitals)\n",
    "    print(f\"{zone} 医院信息已获取完毕...\")\n",
    "\n",
    "print(hospitals)"
   ]
  },
  {
   "cell_type": "code",
   "execution_count": 2,
   "metadata": {},
   "outputs": [
    {
     "name": "stdout",
     "output_type": "stream",
     "text": [
      "{'西安市红会医院': 'https://yyk.familydoctor.com.cn/17097/', '陕西省中医医院': 'https://yyk.familydoctor.com.cn/16920/', '西安市第五医院': 'https://yyk.familydoctor.com.cn/16808/', '西安莲湖华中医院': 'https://yyk.familydoctor.com.cn/17002/', '陕西西京中医医院': 'https://yyk.familydoctor.com.cn/16999/', '西安莲湖中童儿童康复医院': 'https://yyk.familydoctor.com.cn/16929/', '陕西省皮肤性病防治所': 'https://yyk.familydoctor.com.cn/16909/', '西安北方中医皮肤病医院': 'https://yyk.familydoctor.com.cn/20508/', '西安莲湖长城医院': 'https://yyk.familydoctor.com.cn/21384/', '西安中际中西医结合脑病医院': 'https://yyk.familydoctor.com.cn/20871/', '西安莲湖大唐医院(男科)': 'https://yyk.familydoctor.com.cn/20909/', '西安莲湖国豪医院': 'https://yyk.familydoctor.com.cn/20534/', '西安莲湖生殖医院': 'https://yyk.familydoctor.com.cn/20994/', '西安市莲湖区红十字会医院': 'https://yyk.familydoctor.com.cn/16933/', '西安市莲湖区妇幼保健站': 'https://yyk.familydoctor.com.cn/16959/', '西安市莲湖区中医院': 'https://yyk.familydoctor.com.cn/16968/', '西安市立山医院': 'https://yyk.familydoctor.com.cn/16973/', '西安市莲湖区庙后街医院': 'https://yyk.familydoctor.com.cn/16993/', '西安市莲湖区青年路医院': 'https://yyk.familydoctor.com.cn/16995/', '西安莲湖华西医院': 'https://yyk.familydoctor.com.cn/20531/', '西安莲湖京科医院': 'https://yyk.familydoctor.com.cn/21062/', '西安市莲湖区西关医院': 'https://yyk.familydoctor.com.cn/16990/', '陕西地质矿产局职工医院': 'https://yyk.familydoctor.com.cn/16946/', '西安莲湖北大医院': 'https://yyk.familydoctor.com.cn/21291/', '西安市莲湖区红庙坡医院': 'https://yyk.familydoctor.com.cn/16936/', '西安远东医院': 'https://yyk.familydoctor.com.cn/16970/', '西安炎黄中医专科医院': 'https://yyk.familydoctor.com.cn/16997/', '西安冶金机械厂职工医院': 'https://yyk.familydoctor.com.cn/16976/', '陕西省第一建筑工程公司职工医院': 'https://yyk.familydoctor.com.cn/16982/', '西安市莲湖区北关医院': 'https://yyk.familydoctor.com.cn/16985/', '西安市莲湖区桃园路医院': 'https://yyk.familydoctor.com.cn/16988/', '陕西省邮电医院': 'https://yyk.familydoctor.com.cn/16949/', '西安市第二医院': 'https://yyk.familydoctor.com.cn/16955/', '西安新城仁爱皮肤病医院': 'https://yyk.familydoctor.com.cn/20710/', '陕西省地方病防治研究所': 'https://yyk.familydoctor.com.cn/16915/', '庆安宇航设备厂职工医院': 'https://yyk.familydoctor.com.cn/16942/', '西安都市医院': 'https://yyk.familydoctor.com.cn/20853/', '西安市中医医院': 'https://yyk.familydoctor.com.cn/17013/', '西安市第四医院': 'https://yyk.familydoctor.com.cn/17011/', '西安市中心医院': 'https://yyk.familydoctor.com.cn/16918/', '陕西省妇幼保健院': 'https://yyk.familydoctor.com.cn/16791/', '西安交通大学口腔医院': 'https://yyk.familydoctor.com.cn/17016/', '陕西省第二人民医院': 'https://yyk.familydoctor.com.cn/17008/', '中国人民解放军三二三医院': 'https://yyk.familydoctor.com.cn/17102/', '西电集团医院': 'https://yyk.familydoctor.com.cn/17018/', '西安圣和医院': 'https://yyk.familydoctor.com.cn/17088/', '西安新城中大耳鼻喉医院': 'https://yyk.familydoctor.com.cn/17618/', '西安古城医院肿瘤防治分院': 'https://yyk.familydoctor.com.cn/17024/', '西安市新城区中医院': 'https://yyk.familydoctor.com.cn/17029/', '西安市新城区胡家庙医院': 'https://yyk.familydoctor.com.cn/17072/', '陕西省西铁肿瘤医院': 'https://yyk.familydoctor.com.cn/17076/', '西安市按摩医院': 'https://yyk.familydoctor.com.cn/17080/', '西安市东方医院': 'https://yyk.familydoctor.com.cn/17052/', '西安武仁医院': 'https://yyk.familydoctor.com.cn/17039/', '西安市北方医院': 'https://yyk.familydoctor.com.cn/17045/', '西安市东郊第一职工医院': 'https://yyk.familydoctor.com.cn/17048/', '西安市东郊第二职工医院': 'https://yyk.familydoctor.com.cn/17065/', '西安新城白癫风专科医院': 'https://yyk.familydoctor.com.cn/17083/', '西安市昆仑医院': 'https://yyk.familydoctor.com.cn/17059/', '西安市第六医院': 'https://yyk.familydoctor.com.cn/17027/', '西安市新城区兴庆医院': 'https://yyk.familydoctor.com.cn/17034/', '西安市华山中心医院': 'https://yyk.familydoctor.com.cn/17036/', '西安市东郊第三职工医院': 'https://yyk.familydoctor.com.cn/17067/', '西安市东郊第四职工医院': 'https://yyk.familydoctor.com.cn/17071/', '西安仁爱白癜风医院': 'https://yyk.familydoctor.com.cn/20938/', '西安黄河医院': 'https://yyk.familydoctor.com.cn/17042/', '陕西省建材医院': 'https://yyk.familydoctor.com.cn/17051/', '西安市新城区第二医院': 'https://yyk.familydoctor.com.cn/17056/', '西安市新城区妇幼保健院': 'https://yyk.familydoctor.com.cn/17021/', '西安太华医院': 'https://yyk.familydoctor.com.cn/17062/', '西京医院': 'https://yyk.familydoctor.com.cn/21413/', '西安远大中医皮肤病医院': 'https://yyk.familydoctor.com.cn/20901/', '西安交通大学医学院第二附属医院': 'https://yyk.familydoctor.com.cn/17584/', '陕西省人民医院': 'https://yyk.familydoctor.com.cn/17095/', '西安市第一医院': 'https://yyk.familydoctor.com.cn/17113/', '西安市第九医院': 'https://yyk.familydoctor.com.cn/17352/', '中国人民解放军四五一医院': 'https://yyk.familydoctor.com.cn/17111/', '西安胃泰消化病医院': 'https://yyk.familydoctor.com.cn/21442/', '陕西远大男病专科医院': 'https://yyk.familydoctor.com.cn/21436/', '西安学典医院': 'https://yyk.familydoctor.com.cn/17092/', '西安慈爱妇产医院': 'https://yyk.familydoctor.com.cn/21033/', '西安生殖保健院': 'https://yyk.familydoctor.com.cn/17572/', '陕西省老医协生殖医学医院妇科': 'https://yyk.familydoctor.com.cn/20747/', '西安协同医院': 'https://yyk.familydoctor.com.cn/17198/', '陕西省老医协生殖医学医院': 'https://yyk.familydoctor.com.cn/17118/', '西安华仁医院': 'https://yyk.familydoctor.com.cn/21249/', '西安市碑林区东大街医院': 'https://yyk.familydoctor.com.cn/17127/', '西安市碑林区中医院': 'https://yyk.familydoctor.com.cn/17179/', '西安市碑林区红十字会医院': 'https://yyk.familydoctor.com.cn/17137/', '陕西省交通医院': 'https://yyk.familydoctor.com.cn/17139/', '西安宇恒医院': 'https://yyk.familydoctor.com.cn/17151/', '西安华夏医院': 'https://yyk.familydoctor.com.cn/17162/', '西安市碑林区口腔医院': 'https://yyk.familydoctor.com.cn/17175/', '西安市碑林区南大街医院': 'https://yyk.familydoctor.com.cn/17180/', '西安市碑林区东关医院': 'https://yyk.familydoctor.com.cn/17187/', '西安肝硬化医院': 'https://yyk.familydoctor.com.cn/17122/', '西安市眼科医院': 'https://yyk.familydoctor.com.cn/17123/', '西安市红十字会医院骨伤分院': 'https://yyk.familydoctor.com.cn/17116/', '陕西省公路局职工医院': 'https://yyk.familydoctor.com.cn/17143/', '西安市皇城医院': 'https://yyk.familydoctor.com.cn/17147/', '西安南关医院': 'https://yyk.familydoctor.com.cn/17149/', '西安华佗医院': 'https://yyk.familydoctor.com.cn/17159/', '西安民建中医院': 'https://yyk.familydoctor.com.cn/17168/', '西安市红缨路医院': 'https://yyk.familydoctor.com.cn/17146/', '西安工程科技大学医院': 'https://yyk.familydoctor.com.cn/17154/', '西安华医医院': 'https://yyk.familydoctor.com.cn/17169/', '西安精英医院': 'https://yyk.familydoctor.com.cn/17131/', '陕西省康复中心': 'https://yyk.familydoctor.com.cn/17194/', '西安市碑林区妇幼保健站': 'https://yyk.familydoctor.com.cn/17186/', '西安大同医院': 'https://yyk.familydoctor.com.cn/17156/', '西安友谊中医院': 'https://yyk.familydoctor.com.cn/17133/', '西安市南天医院': 'https://yyk.familydoctor.com.cn/17135/', '西安唐都医院': 'https://yyk.familydoctor.com.cn/17204/', '西安市灞桥区人民医院': 'https://yyk.familydoctor.com.cn/17210/', '陕西省纺织医院': 'https://yyk.familydoctor.com.cn/17203/', '西安市灞桥区红十字会医院': 'https://yyk.familydoctor.com.cn/17230/', '西安市灞桥区中医院': 'https://yyk.familydoctor.com.cn/17226/', '西安市灞桥区精神病院': 'https://yyk.familydoctor.com.cn/17219/', '西安市灞桥区妇幼保健站': 'https://yyk.familydoctor.com.cn/17221/', '西安市亚西光电仪器厂职工医院': 'https://yyk.familydoctor.com.cn/17233/', '西安长安医院': 'https://yyk.familydoctor.com.cn/17241/', '西安古城眼科医院': 'https://yyk.familydoctor.com.cn/17325/', '西安市康复医院': 'https://yyk.familydoctor.com.cn/17331/', '西安市未央区第一人民医院': 'https://yyk.familydoctor.com.cn/17244/', '西安惠仁医院': 'https://yyk.familydoctor.com.cn/17287/', '西安市未央区二府庄医院': 'https://yyk.familydoctor.com.cn/17315/', '西安市未央区草滩医院': 'https://yyk.familydoctor.com.cn/17317/', '西安郭家村工商公司医院': 'https://yyk.familydoctor.com.cn/17324/', '西安市未央区大明宫骨科医院': 'https://yyk.familydoctor.com.cn/17259/', '西安协和医院': 'https://yyk.familydoctor.com.cn/17277/', '西安太和医院': 'https://yyk.familydoctor.com.cn/17286/', '西安阳光医院': 'https://yyk.familydoctor.com.cn/17293/', '西安交通大学第二附属医院皮肤病院': 'https://yyk.familydoctor.com.cn/16859/', '西安华山中医皮肤病医院': 'https://yyk.familydoctor.com.cn/21131/', '西安市未央区第二人民医院': 'https://yyk.familydoctor.com.cn/17248/', '西安航空发动机公司职工医院': 'https://yyk.familydoctor.com.cn/17269/', '西安张家堡肛肠医院': 'https://yyk.familydoctor.com.cn/17304/', '陕西第十棉织厂医院': 'https://yyk.familydoctor.com.cn/17312/', '西安市唐城医院': 'https://yyk.familydoctor.com.cn/17267/', '西安市未央区未央宫医院': 'https://yyk.familydoctor.com.cn/17281/', '西安未央康乐医院': 'https://yyk.familydoctor.com.cn/17292/', '西安市未央区谭家医院': 'https://yyk.familydoctor.com.cn/17321/', '西安西郊纺织医院': 'https://yyk.familydoctor.com.cn/17274/', '第四军医大学西京医院': 'https://yyk.familydoctor.com.cn/17356/', '西安交通大学第一医院': 'https://yyk.familydoctor.com.cn/17347/', '陕西省肿瘤医院': 'https://yyk.familydoctor.com.cn/17342/', '西安市精神卫生中心': 'https://yyk.familydoctor.com.cn/17366/', '西安高新医院': 'https://yyk.familydoctor.com.cn/17473/', '西安市第八医院': 'https://yyk.familydoctor.com.cn/17494/', '西安天佑医院': 'https://yyk.familydoctor.com.cn/17483/', '西安藻露堂中医医院': 'https://yyk.familydoctor.com.cn/17478/', '西安雁塔友好医院': 'https://yyk.familydoctor.com.cn/21514/', '西安神龙中医院': 'https://yyk.familydoctor.com.cn/17467/', '西安市雁塔截瘫康复医疗中心': 'https://yyk.familydoctor.com.cn/17397/', '西安同仁医院': 'https://yyk.familydoctor.com.cn/17399/', '陕西省新安中心医院': 'https://yyk.familydoctor.com.cn/17401/', '西安雁塔曙光医院': 'https://yyk.familydoctor.com.cn/20620/', '西安市雁塔区等驾坡医院': 'https://yyk.familydoctor.com.cn/17451/', '西安市安康医院': 'https://yyk.familydoctor.com.cn/17413/', '西安公路交通大学医院': 'https://yyk.familydoctor.com.cn/17415/', '西安交通大学医院': 'https://yyk.familydoctor.com.cn/17423/', '西安建筑科技大学医院': 'https://yyk.familydoctor.com.cn/17375/', '陕西省钢厂职工医院': 'https://yyk.familydoctor.com.cn/17445/', '西安市雁塔区中医肿瘤医院': 'https://yyk.familydoctor.com.cn/17430/', '西安二六二医院': 'https://yyk.familydoctor.com.cn/17459/', '西安电力中心医院': 'https://yyk.familydoctor.com.cn/17378/', '西安康太医院': 'https://yyk.familydoctor.com.cn/17411/', '西安电子科技大学医院': 'https://yyk.familydoctor.com.cn/17417/', '西安市雁塔区肿瘤医院': 'https://yyk.familydoctor.com.cn/17427/', '西安中华医院': 'https://yyk.familydoctor.com.cn/17392/', '西安市朱雀医院': 'https://yyk.familydoctor.com.cn/17393/', '陕西博爱医院': 'https://yyk.familydoctor.com.cn/17370/', '西安雁塔区精神病院': 'https://yyk.familydoctor.com.cn/17438/', '西安市雁塔区疑难病医院': 'https://yyk.familydoctor.com.cn/17449/', '陕西正和医院': 'https://yyk.familydoctor.com.cn/17381/', '西安仁芳医院': 'https://yyk.familydoctor.com.cn/17463/', '西安市阎良区铁路医院精神病分院': 'https://yyk.familydoctor.com.cn/17517/', '西安市阎良区中医院': 'https://yyk.familydoctor.com.cn/17503/', '西安阎良精神病医院': 'https://yyk.familydoctor.com.cn/17532/', '西安一四一医院': 'https://yyk.familydoctor.com.cn/17509/', '西安市阎良铁路医院': 'https://yyk.familydoctor.com.cn/17511/', '西安一四一医院分院': 'https://yyk.familydoctor.com.cn/17526/', '西安市阎良区人民医院': 'https://yyk.familydoctor.com.cn/17535/', '西安市阎良区妇幼保健站': 'https://yyk.familydoctor.com.cn/17540/', '第四军医大学口腔医院': 'https://yyk.familydoctor.com.cn/17548/', '临潼县人民医院': 'https://yyk.familydoctor.com.cn/17566/', '临潼县中医院': 'https://yyk.familydoctor.com.cn/17556/', '临潼职业病医院': 'https://yyk.familydoctor.com.cn/17562/', '临潼妇幼保健院': 'https://yyk.familydoctor.com.cn/17557/', '陕西省结核病防治院': 'https://yyk.familydoctor.com.cn/17578/', '西安市结核病胸部肿瘤医院': 'https://yyk.familydoctor.com.cn/17616/', '长安县医院': 'https://yyk.familydoctor.com.cn/17606/', '西安长安龙泉医院': 'https://yyk.familydoctor.com.cn/17600/', '西安市长安区精神病院': 'https://yyk.familydoctor.com.cn/17602/', '西安市长安区妇幼保健院': 'https://yyk.familydoctor.com.cn/17614/', '西安市长安区中医院': 'https://yyk.familydoctor.com.cn/17611/', '西安尚德医院': 'https://yyk.familydoctor.com.cn/17595/', '西安类风湿康复中心': 'https://yyk.familydoctor.com.cn/17598/', '西安长安秦通医院': 'https://yyk.familydoctor.com.cn/17589/', '蓝田县康复医院': 'https://yyk.familydoctor.com.cn/17633/', '蓝田县中医院': 'https://yyk.familydoctor.com.cn/17630/', '蓝田县医院': 'https://yyk.familydoctor.com.cn/17628/', '向阳公司职工医院': 'https://yyk.familydoctor.com.cn/17642/', '周至县妇幼保健院': 'https://yyk.familydoctor.com.cn/17647/', '周至县人民医院': 'https://yyk.familydoctor.com.cn/17652/', '周至县会仁医院': 'https://yyk.familydoctor.com.cn/17662/', '周至县镇东联合医院': 'https://yyk.familydoctor.com.cn/17663/', '周至县中医院': 'https://yyk.familydoctor.com.cn/17658/', '西安中医肾病医院': 'https://yyk.familydoctor.com.cn/17692/', '户县妇幼保健院': 'https://yyk.familydoctor.com.cn/17681/', '陕西省森工医院': 'https://yyk.familydoctor.com.cn/17688/', '西安惠安医院': 'https://yyk.familydoctor.com.cn/17684/', '西安济仁医院': 'https://yyk.familydoctor.com.cn/17668/', '户县人民医院': 'https://yyk.familydoctor.com.cn/17673/', '户县中医院': 'https://yyk.familydoctor.com.cn/17676/', '高陵县中医院': 'https://yyk.familydoctor.com.cn/17706/', '高陵县妇幼保健院': 'https://yyk.familydoctor.com.cn/17712/', '高陵县医院': 'https://yyk.familydoctor.com.cn/17702/', '高陵县光达眼病医院': 'https://yyk.familydoctor.com.cn/17709/'}\n"
     ]
    }
   ],
   "source": [
    "print(hospitals)"
   ]
  },
  {
   "cell_type": "code",
   "execution_count": 3,
   "metadata": {},
   "outputs": [
    {
     "name": "stdout",
     "output_type": "stream",
     "text": [
      "医院名称： 西安市红会医院\n",
      "医院类型： 专科医院\n",
      "医院等级： 三级甲等\n",
      "医院地址： 中国陕西省西安市南稍门南郭路76号\n",
      "咨询电话： 门诊咨询（8:00-18:00）18802940114 ,医疗总值班（18:00-8:00）15129265553,行政总值班13892893540（24小时）\n",
      "{'医院类型：': '专科医院', '医院等级：': '三级甲等', '医院地址：': '中国陕西省西安市南稍门南郭路76号', '咨询电话：': '门诊咨询（8:00-18:00）18802940114 ,医疗总值班（18:00-8:00）15129265553,行政总值班13892893540（24小时）'}\n",
      "======================\n",
      "      医院名称  医院类型  医院等级               医院地址  \\\n",
      "0  西安市红会医院  专科医院  三级甲等  中国陕西省西安市南稍门南郭路76号   \n",
      "\n",
      "                                                咨询电话  \n",
      "0  门诊咨询（8:00-18:00）18802940114 ,医疗总值班（18:00-8:00）...  \n",
      "结果写入 result.xls\n"
     ]
    }
   ],
   "source": [
    "excel_dict={}\n",
    "df = DataFrame(columns=[\"医院名称\",\"医院类型\",\"医院等级\",\"医院地址\",\"咨询电话\"])\n",
    "for hospital in hospitals:\n",
    "    print(\"医院名称：\",hospital)\n",
    "    hospital_link=hospitals[hospital]\n",
    "    headers = {\"User-Agent\":\"\",\"Cookie\":\"\"}\n",
    "    hospital_info = requests.get(hospital_link,headers=headers)\n",
    "\n",
    "    hospital_soup = BeautifulSoup(hospital_info.text,\"html.parser\")\n",
    "    temp = hospital_soup.find_all(\"div\",class_=\"introPic\")\n",
    "    if temp:\n",
    "        hospital_intro = temp[0]\n",
    "        #print(hospital_intro)\n",
    "        detail = hospital_intro.find_all(\"dl\")\n",
    "        #print(detail)\n",
    "        temp_dict={}\n",
    "        for subitem in detail:\n",
    "            title = subitem.dt.get_text(strip=True)\n",
    "            if \"医院地址\" in title:\n",
    "                answer = subitem.dd.get_text(strip=True)[:-4]\n",
    "            else:\n",
    "                answer = subitem.dd.get_text(strip=True)\n",
    "            temp_dict[title]=answer\n",
    "            print(title,answer)\n",
    "    excel_dict[hospital]=temp_dict\n",
    "    print(temp_dict)\n",
    "    df=df.append({\"医院名称\":hospital,\"医院类型\":temp_dict[\"医院类型：\"],\"医院等级\":temp_dict[\"医院等级：\"],\"医院地址\":temp_dict[\"医院地址：\"],\"咨询电话\":temp_dict[\"咨询电话：\"]},ignore_index=True)\n",
    "\n",
    "    print(\"======================\")\n",
    "    print(df)\n",
    "    \n",
    "df.to_excel(\"result.xls\")\n",
    "print(\"结果写入 result.xls\")"
   ]
  },
  {
   "cell_type": "code",
   "execution_count": null,
   "metadata": {},
   "outputs": [],
   "source": []
  }
 ],
 "metadata": {
  "kernelspec": {
   "display_name": "Python 3",
   "language": "python",
   "name": "python3"
  },
  "language_info": {
   "codemirror_mode": {
    "name": "ipython",
    "version": 3
   },
   "file_extension": ".py",
   "mimetype": "text/x-python",
   "name": "python",
   "nbconvert_exporter": "python",
   "pygments_lexer": "ipython3",
   "version": "3.7.4"
  }
 },
 "nbformat": 4,
 "nbformat_minor": 2
}
